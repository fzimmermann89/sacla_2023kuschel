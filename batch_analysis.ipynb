{
 "cells": [
  {
   "cell_type": "markdown",
   "id": "cc22a5bf-0180-420a-b8cc-fb7c54c35745",
   "metadata": {},
   "source": [
    "## Analysis script"
   ]
  },
  {
   "cell_type": "code",
   "execution_count": 2,
   "id": "68cc4ba2-bab8-414c-812e-0f7a7872b780",
   "metadata": {},
   "outputs": [
    {
     "name": "stdout",
     "output_type": "stream",
     "text": [
      "Overwriting analyse.py\n"
     ]
    }
   ],
   "source": [
    "%%writefile analyse.py\n",
    "# felix zimmermann, github.com/fzimmermann89 for beamtime kuschel2023\n",
    "\n",
    "from tqdm import tqdm\n",
    "import matplotlib.pyplot as plt\n",
    "import numpy as np\n",
    "from data_helper import *\n",
    "import accumulators\n",
    "from pathlib import Path\n",
    "from filters import *\n",
    "from calculators import *\n",
    "\n",
    "import exp_config\n",
    "\n",
    "def analyserun(runNR, max_shots=np.inf, step_shots=1):\n",
    "    run=Run(exp_config.detector_keys,exp_config.database_keys, run=int(runNR))\n",
    "    \n",
    "    #accumulators\n",
    "    spectrum_mean=accumulators.Mean()\n",
    "    forward_mean=accumulators.Mean()\n",
    "    forward_hist_mean=accumulators.Mean()\n",
    "    forward_total = []\n",
    "    side_mean=accumulators.Mean()\n",
    "    side_max=accumulators.Maximum()\n",
    "    side_hist_mean=accumulators.Mean()\n",
    "    side_bright_pershot = []\n",
    "    side_total = []\n",
    "    spectrum=[]\n",
    "\n",
    "    #calculators\n",
    "    side_hist = Histogrammer(bins=200, range=(0,50000))\n",
    "    forward_hist = Histogrammer(bins=200, range=(0,50000)) \n",
    "    side_bright_counter = RangeCounter(low=40) \n",
    "    top = topk(k=5) # 5 brightest images\n",
    "    cut_noise=NoiseCutter(1000) #sets values below 1000ev to zero\n",
    "\n",
    "    #shot filtering    \n",
    "    good_shots = filter_shutter(run)(filter_xstep(run)())\n",
    "    good_shots = good_shots[range(0,min(max_shots, len(good_shots)), step_shots)]\n",
    "\n",
    "    print(\"good_shots:\",good_shots)\n",
    "    \n",
    "\n",
    "    for i in tqdm(good_shots):\n",
    "        shot = run[i]\n",
    "        # do something with the data.\n",
    "\n",
    "        #spectrometer\n",
    "        current_spectrum = np.mean(shot.spectrometer, axis=1)\n",
    "        spectrum_mean.accumulate(current_spectrum)\n",
    "        spectrum.append(current_spectrum)\n",
    "\n",
    "        #image detectors\n",
    "        side_image = cut_noise(shot.side_ccd)\n",
    "        side_image_sum = np.sum(side_image)\n",
    "        forward_image = cut_noise(shot.forward_ccd)\n",
    "        forward_image_sum = np.sum(forward_image)\n",
    "        \n",
    "        side_mean.accumulate(side_image)\n",
    "        forward_mean.accumulate(forward_image)\n",
    "        side_max.accumulate(shot.side_ccd)\n",
    "\n",
    "        side_bright_pershot.append(side_bright_counter(shot.side_ccd))\n",
    "        side_total.append(side_image_sum)\n",
    "        forward_total.append(forward_image_sum)\n",
    "        \n",
    "        #brightest images\n",
    "        dat = (forward_image_sum, side_image_sum, forward_image, side_image, i)\n",
    "        brightness = forward_image_sum\n",
    "        top.add(brightness,dat)\n",
    "       \n",
    "        #image hists\n",
    "        side_hist_mean.accumulate(side_hist(shot.side_ccd))\n",
    "        forward_hist_mean.accumulate(forward_hist(shot.forward_ccd))\n",
    "    \n",
    "    #get values of brightest images\n",
    "    forward_top_image_sum,side_top_image_sum,forward_top_images,side_top_images,i_top_images=zip(*top.get())\n",
    "    \n",
    "    \n",
    "    return to_dict(run, shots_taken=good_shots, side_mean=side_mean,forward_mean=forward_mean,side_hist_mean=side_hist_mean,forward_hist_mean=forward_hist_mean,forward_hist_centers=forward_hist.centers(),side_hist_centers=side_hist.centers(),side_bright_pershot=side_bright_pershot,side_max=side_max,side_total=side_total,forward_total=forward_total, runNR=runNR,spectrum_mean=spectrum_mean,spectrum=spectrum,spectrum_axis=exp_config.spectrometer_axis_gold, \n",
    "              forward_top_images=forward_top_images,    forward_top_image_sum=forward_top_image_sum,    side_top_image_sum=side_top_image_sum,    side_top_image=side_top_images,    i_top_images=i_top_images,)\n",
    "\n",
    "if __name__ == \"__main__\":\n",
    "    import argparse\n",
    "    parser=argparse.ArgumentParser()\n",
    "    parser.add_argument(\"run\")\n",
    "    args=parser.parse_args()\n",
    "\n",
    "    outpath=f\"/work/kuschel/2023TRsHardXray/scratch/ulmer/data/run_data/data1_run{args.run}.npz\"\n",
    "    print(\"will save to\",outpath)     \n",
    "    data = analyserun(runNR=args.run)\n",
    "    print(\"done\", outpath)\n",
    "    np.savez_compressed(outpath,**data)\n"
   ]
  },
  {
   "cell_type": "code",
   "execution_count": 3,
   "id": "d40bacbc-17ed-479a-bec6-c84f96a921a4",
   "metadata": {},
   "outputs": [
    {
     "ename": "SyntaxError",
     "evalue": "invalid syntax (3312256850.py, line 14)",
     "output_type": "error",
     "traceback": [
      "\u001b[0;36m  File \u001b[0;32m\"/var/tmp/pbs.4934897.fep01/ipykernel_152046/3312256850.py\"\u001b[0;36m, line \u001b[0;32m14\u001b[0m\n\u001b[0;31m    source /home/blstaff/SACLAtool_py3.7\u001b[0m\n\u001b[0m                                       ^\u001b[0m\n\u001b[0;31mSyntaxError\u001b[0m\u001b[0;31m:\u001b[0m invalid syntax\n"
     ]
    }
   ],
   "source": [
    "%writefile job.pbs\n",
    "\n",
    "#PBS -S /bin/bash\n",
    "#PBS -q serial\n",
    "#PBS -l nodes=1\n",
    "#PBS -l mem=8gb\n",
    "#PBS -l ncpus=4\n",
    "#PBS -l walltime=1:00:00\n",
    "\n",
    "## run with qsub job.pbs -J STARTRUN-ENDRUN:STEPRUN \n",
    "##start and end are inclusive / inclusive\n",
    "\n",
    "\n",
    "source /home/blstaff/SACLAtool_py3.7\n",
    "module load SACLA_tool/1.0.0\n",
    "module load python/SACLA_python-3.7/offline\n",
    "\n",
    "# adjust path to script here\n",
    "python /work/kuschel/2023TRsHardXray/scratch/ulmer/analyse/analyse.py $PBS_ARRAY_INDEX\n"
   ]
  },
  {
   "cell_type": "markdown",
   "id": "ac3a66a8-a6f4-41c3-9ed5-94807240b73c",
   "metadata": {},
   "source": [
    "# Start Jobs"
   ]
  },
  {
   "cell_type": "code",
   "execution_count": 100,
   "id": "c9c36680-d9a9-4eda-ad32-c7b1df3d0958",
   "metadata": {},
   "outputs": [
    {
     "name": "stdout",
     "output_type": "stream",
     "text": [
      "Job id            Name             User              Time Use S Queue\n",
      "----------------  ---------------- ----------------  -------- - -----\n",
      "4933611.fep01     STDIN            nakasako          03:57:58 R long            \n",
      "4934217.fep01     STDIN            inoue             00:31:01 R serial          \n",
      "4934255.fep01     Jupyter          inoue             00:03:02 R serial          \n",
      "4934538.fep01     STDIN            nojiri            14:55:25 R serial          \n",
      "4934738.fep01     STDIN            muthreich         00:00:01 R serial          \n",
      "4934880.fep01     STDIN            yanwen            01:47:09 R serial          \n",
      "4934891.fep01     STDIN            ulmer             00:00:26 R serial          \n",
      "4934897.fep01     STDIN            ulmer             00:06:02 R serial          \n"
     ]
    }
   ],
   "source": [
    "!qstat"
   ]
  },
  {
   "cell_type": "code",
   "execution_count": null,
   "id": "23287bce-d9e3-457f-b53b-15639df531c7",
   "metadata": {},
   "outputs": [],
   "source": [
    "start_run = 1313933\n"
   ]
  },
  {
   "cell_type": "code",
   "execution_count": null,
   "id": "943d00fb-3055-45a3-bccc-f385c4e94107",
   "metadata": {},
   "outputs": [],
   "source": [
    "from data_helper import getNewestRun\n",
    "\n",
    "end_run = getNewestRun()\n",
    "\n",
    "current_run = start_run\n",
    "while current_run < end_run:\n",
    "    srun = int(current_run)\n",
    "    erun = int(min(current_run+49, end_run))\n",
    "    print(f'starting job for runs: {srun} to {erun}')\n",
    "    !qsub -o logs/ -e logs/ -J $srun-$erun job.pbs\n",
    "    current_run += 50\n",
    "start_run = end_run"
   ]
  },
  {
   "cell_type": "code",
   "execution_count": 5,
   "id": "4c54218e-54f3-42e8-b239-3c41bddb18ab",
   "metadata": {},
   "outputs": [
    {
     "name": "stdout",
     "output_type": "stream",
     "text": [
      "Job id            Name             User              Time Use S Queue\n",
      "----------------  ---------------- ----------------  -------- - -----\n",
      "4933611.fep01     STDIN            nakasako          04:49:23 R long            \n",
      "4934538.fep01     STDIN            nojiri            23:10:37 R serial          \n",
      "4934738.fep01     STDIN            muthreich         00:00:01 R serial          \n",
      "4934880.fep01     STDIN            yanwen            03:04:35 R serial          \n",
      "4934891.fep01     STDIN            ulmer             00:00:26 R serial          \n",
      "4934897.fep01     STDIN            ulmer             01:21:49 R serial          \n",
      "4935240.fep01     512_v11-1        mamoru.suzuki     02:47:08 R serial          \n",
      "4935244[].fep01   job.pbs          ulmer                    0 B serial          \n",
      "4935245[].fep01   job.pbs          ulmer                    0 B serial          \n",
      "4935246[].fep01   job.pbs          ulmer                    0 Q serial          \n",
      "4935247.fep01     511_v11-1        mamoru.suzuki     03:15:01 R serial          \n",
      "4935248.fep01     512_v11-1        mamoru.suzuki     02:56:40 R serial          \n",
      "4935249.fep01     513_v11-1        mamoru.suzuki     02:29:14 R serial          \n",
      "4935250.fep01     514_v11-1        mamoru.suzuki     02:27:23 R serial          \n",
      "4935251.fep01     515_v11-1        mamoru.suzuki     03:00:05 R serial          \n",
      "4935252[].fep01   job.pbs          ulmer                    0 Q serial          \n",
      "4935253[].fep01   job.pbs          ulmer                    0 Q serial          \n",
      "4935256.fep01     516_v11-1        mamoru.suzuki     02:05:51 R serial          \n",
      "4935257.fep01     517_v11-1        mamoru.suzuki     02:59:41 R serial          \n",
      "4935258.fep01     518_v11-1        mamoru.suzuki     02:29:20 R serial          \n",
      "4935259.fep01     519_v11-1        mamoru.suzuki     01:20:21 R serial          \n",
      "4935260.fep01     MPR_HPC_00001-0* nakasako          00:01:49 R psmall          \n"
     ]
    }
   ],
   "source": [
    "!qstat"
   ]
  },
  {
   "cell_type": "code",
   "execution_count": 4,
   "id": "e478caf9-0ad0-4b2b-a46b-f8bbb0017569",
   "metadata": {},
   "outputs": [],
   "source": [
    "# for i in range(4935001,4935051):\n",
    "#     !qdel $i[].fep01"
   ]
  },
  {
   "cell_type": "markdown",
   "id": "cf5a6541-2ad6-4ea3-9222-bd0fb97280f4",
   "metadata": {},
   "source": [
    "# Auswertung"
   ]
  },
  {
   "cell_type": "code",
   "execution_count": 103,
   "id": "85288bab-efce-4a27-ab58-154f644bbf86",
   "metadata": {},
   "outputs": [],
   "source": [
    "from tqdm import tqdm\n",
    "import matplotlib.pyplot as plt\n",
    "import numpy as np\n",
    "from data_helper import *\n",
    "import accumulators\n",
    "from pathlib import Path\n",
    "from filters import *\n",
    "from calculators import *\n",
    "import datetime\n",
    "from radial_profile import radial_profile\n",
    "import exp_config"
   ]
  },
  {
   "cell_type": "markdown",
   "id": "a57ef857-e266-4f61-a4a7-ac15dc32427a",
   "metadata": {},
   "source": [
    "## Plot for each run"
   ]
  },
  {
   "cell_type": "code",
   "execution_count": null,
   "id": "255bcaec-0cb4-49a6-8be8-9b3a8d1c460e",
   "metadata": {},
   "outputs": [],
   "source": [
    "START = 1314826\n"
   ]
  },
  {
   "cell_type": "code",
   "execution_count": 133,
   "id": "dfdfaebb-2626-4ba8-9c63-9a426d1c7819",
   "metadata": {},
   "outputs": [
    {
     "name": "stdout",
     "output_type": "stream",
     "text": [
      "1314976\n",
      "1314977\n",
      "1314978\n",
      "1314979\n",
      "1314980\n",
      "1314981\n",
      "1314982\n",
      "1314983\n",
      "1314984\n",
      "1314985\n",
      "1314986\n",
      "1314987\n",
      "1314988\n",
      "1314989\n",
      "1314990\n",
      "1314991\n",
      "1314992\n",
      "1314993\n",
      "1314994\n",
      "1314995\n",
      "1315025\n",
      "1315026\n",
      "1315027\n",
      "1315028\n",
      "1315029\n",
      "1315030\n",
      "1315031\n",
      "1315032\n",
      "1315033\n",
      "1315035\n",
      "1315036\n",
      "1315037\n",
      "1315038\n",
      "1315313\n",
      "1315314\n",
      "1315315\n",
      "1315316\n",
      "1315317\n",
      "1315318\n",
      "1315319\n",
      "1315320\n",
      "1315321\n",
      "1315322\n",
      "1315323\n",
      "1315324\n",
      "1315325\n",
      "1315326\n",
      "1315327\n",
      "1315328\n",
      "1315329\n",
      "1315330\n",
      "1315331\n",
      "1315332\n",
      "1315333\n",
      "1315334\n",
      "1315335\n",
      "1315336\n",
      "1315337\n",
      "1315338\n",
      "1315339\n",
      "1315340\n",
      "1315341\n",
      "1315342\n",
      "1315343\n",
      "1315344\n",
      "1315345\n",
      "1315346\n",
      "1315347\n",
      "1315348\n",
      "1315349\n",
      "1315350\n",
      "1315351\n",
      "1315352\n",
      "1315353\n",
      "1315354\n",
      "1315355\n",
      "1315356\n",
      "1315357\n",
      "1315358\n",
      "1315359\n",
      "1315360\n",
      "1315361\n",
      "1315362\n",
      "1315363\n",
      "1315364\n",
      "1315365\n",
      "1315366\n"
     ]
    }
   ],
   "source": [
    "\n",
    "\n",
    "END=getNewestRun()\n",
    "\n",
    "path=Path(\"/work/kuschel/2023TRsHardXray/scratch/ulmer/data/run_data/\")\n",
    "for data_dict in read_data_generator(path, minrun=START, maxrun=END):\n",
    "    # i0=rundata[\"diode\"]\n",
    "    # current_fluorescence_normalized=np.nanmean(rundata[\"side_total\"]/i0)\n",
    "    # fluorescence_normalized.append(current_fluorescence_normalized)\n",
    "    # energy.append(rundata[\"spectrum_axis\"][np.argmax(rundata[\"spectrum_mean\"])])\n",
    "    # attenuation= 1\n",
    "    print(data_dict[\"runNR\"])\n",
    "    fig, ax = plt.subplots(2,2, figsize=(15,10))\n",
    "    n=len(data_dict[\"tag\"])\n",
    "    runNR=data_dict[\"runNR\"]\n",
    "    \n",
    "    #mean images\n",
    "    im = ax[0,0].imshow(data_dict['forward_mean'])\n",
    "    ax[0,0].set_title(\"mean image forward det\")\n",
    "    plt.colorbar(im, ax=ax[0,0])\n",
    "    # ax[0,0].show()\n",
    "\n",
    "    im2 = ax[0,1].imshow(data_dict['side_mean'])\n",
    "    ax[0,1].set_title(\"mean image side det\")\n",
    "    plt.colorbar(im2, ax=ax[0,1])\n",
    "    # ax[0,1].show()\n",
    "\n",
    "\n",
    "    #Spectrometer Plot\n",
    "    ax[1,0].plot(data_dict[\"spectrum_axis\"], data_dict['spectrum_mean'], label=f\"Mean over {n} shots\")\n",
    "    ax[1,0].set_xlabel(\"energy fel / ev\")\n",
    "    ax[1,0].set_ylabel(\"a.u\")\n",
    "    ax[1,0].set_title(f\"Spectrometer run {runNR}\")\n",
    "    ax[1,0].legend()\n",
    "    # ax[1,0].show()\n",
    "\n",
    "    \n",
    "    #Fluorescence Spectrum\n",
    "    ax[1,1].plot(data_dict['side_hist_centers'], data_dict['side_hist_mean'], label=f\"side,over {n} shots\")\n",
    "    ax[1,1].set_xlabel(\"~ev\")\n",
    "    ax[1,1].set_ylabel(\"a.u.\")\n",
    "    ax[1,1].set_title(f\"Histogram run {runNR}\")\n",
    "    ax[1,1].set_yscale(\"log\")\n",
    "    ax[1,1].plot(data_dict['forward_hist_centers'], data_dict['forward_hist_mean'], label=f\"forward, Mean over {n} shots\")\n",
    "    ax[1,1].legend()\n",
    "    for i in range(1,4):\n",
    "        plt.axvline(i*6400,color=\"gray\")\n",
    "    for i in range(1,4):\n",
    "        plt.axvline(i*9650,color=\"yellow\")\n",
    "    plt.axvline(9650+6400,linestyle=\"-\",color=\"yellow\")\n",
    "    plt.axvline(9650+6400,linestyle=\"--\",color=\"gray\", )\n",
    "    plt.axvline(2*9650+6400,linestyle=\"-\",color=\"yellow\")\n",
    "    plt.axvline(2*9650+6400,linestyle=\"--\",color=\"gray\", )\n",
    "    plt.axvline(9650+2*6400,linestyle=\"-\",color=\"yellow\")\n",
    "    plt.axvline(9650+2*6400,linestyle=\"--\",color=\"gray\", )\n",
    "    fig.savefig(f\"/work/kuschel/2023TRsHardXray/scratch/ulmer/data/plots/plt_{runNR}.png\")\n",
    "    plt.close()\n",
    "    #plt.show()\n",
    "    \n",
    "START=END"
   ]
  },
  {
   "cell_type": "markdown",
   "id": "4fa9ac40-1e2d-459a-a0c4-7431d5578395",
   "metadata": {},
   "source": [
    "# find focus"
   ]
  },
  {
   "cell_type": "code",
   "execution_count": 126,
   "id": "47d3f666-49f7-49e9-8613-3e6f215de56e",
   "metadata": {},
   "outputs": [],
   "source": [
    "START=1315353\n",
    "END=START+13"
   ]
  },
  {
   "cell_type": "markdown",
   "id": "a9aba168-d1e9-41be-ad7c-707dec525b89",
   "metadata": {},
   "source": [
    "### create files"
   ]
  },
  {
   "cell_type": "code",
   "execution_count": 118,
   "id": "7aae3ecb-698e-4ebc-8441-f8f90a6b599a",
   "metadata": {},
   "outputs": [
    {
     "name": "stdout",
     "output_type": "stream",
     "text": [
      "starting job for runs: 1314976 to 1314988\n",
      "4934982[].fep01\n"
     ]
    }
   ],
   "source": [
    "from data_helper import getNewestRun\n",
    "\n",
    "start_run = START\n",
    "end_run = END\n",
    "current_run = start_run\n",
    "while current_run < end_run:\n",
    "    srun = int(current_run)\n",
    "    erun = int(min(current_run+49, end_run))\n",
    "    print(f'starting job for runs: {srun} to {erun}')\n",
    "    !qsub -o logs/ -e logs/ -J $srun-$erun job.pbs\n",
    "    current_run += 50\n"
   ]
  },
  {
   "cell_type": "markdown",
   "id": "d3f0c62d-df75-4ee9-a320-3100bd7b0959",
   "metadata": {},
   "source": [
    "### Y scan plot & fit"
   ]
  },
  {
   "cell_type": "code",
   "execution_count": 131,
   "id": "17dac74e-678b-4b0f-b5c1-8608d1ba3f38",
   "metadata": {},
   "outputs": [
    {
     "name": "stderr",
     "output_type": "stream",
     "text": [
      "1it [00:00,  6.87it/s]"
     ]
    },
    {
     "name": "stdout",
     "output_type": "stream",
     "text": [
      "1315353\n",
      "1315354\n",
      "1315355\n"
     ]
    },
    {
     "name": "stderr",
     "output_type": "stream",
     "text": [
      "5it [00:00, 13.39it/s]"
     ]
    },
    {
     "name": "stdout",
     "output_type": "stream",
     "text": [
      "1315356\n",
      "1315357\n",
      "1315358\n",
      "1315359\n"
     ]
    },
    {
     "name": "stderr",
     "output_type": "stream",
     "text": [
      "9it [00:00, 15.33it/s]"
     ]
    },
    {
     "name": "stdout",
     "output_type": "stream",
     "text": [
      "1315360\n",
      "1315361\n",
      "1315362\n",
      "1315363\n"
     ]
    },
    {
     "name": "stderr",
     "output_type": "stream",
     "text": [
      "14it [00:00, 14.80it/s]"
     ]
    },
    {
     "name": "stdout",
     "output_type": "stream",
     "text": [
      "1315364\n",
      "1315365\n",
      "1315366\n"
     ]
    },
    {
     "name": "stderr",
     "output_type": "stream",
     "text": [
      "\n"
     ]
    },
    {
     "data": {
      "text/plain": [
       "Text(0.5, 1.0, '-4541')"
      ]
     },
     "execution_count": 131,
     "metadata": {},
     "output_type": "execute_result"
    },
    {
     "data": {
      "image/png": "[encoded data removed]",
      "text/plain": [
       "<Figure size 640x480 with 1 Axes>"
      ]
     },
     "metadata": {},
     "output_type": "display_data"
    }
   ],
   "source": [
    "\n",
    "x=[]\n",
    "y=[]\n",
    "\n",
    "path=Path(\"/work/kuschel/2023TRsHardXray/scratch/ulmer/data/run_data/\")\n",
    "for data_dict in tqdm(read_data_generator(path, minrun=START, maxrun=END)):\n",
    "    # i0=rundata[\"diode\"]\n",
    "    # current_fluorescence_normalized=np.nanmean(rundata[\"side_total\"]/i0)\n",
    "    # fluorescence_normalized.append(current_fluorescence_normalized)\n",
    "    # energy.append(rundata[\"spectrum_axis\"][np.argmax(rundata[\"spectrum_mean\"])])\n",
    "    # attenuation= 1\n",
    "\n",
    "    print(data_dict[\"runNR\"])\n",
    "    mask = np.ones_like(data_dict['side_mean'])\n",
    "    mask[:270,:] = np.nan\n",
    "    mask[920:,:] = np.nan\n",
    "    mask[:,1070:] = np.nan\n",
    "    mask[:,:580] = np.nan\n",
    "    y.append(np.nanmean(data_dict['side_mean']*mask))\n",
    "    x.append(np.median(data_dict['sampleY']))\n",
    "del x[8]\n",
    "del y[8]\n",
    "x=np.array(x)*1e6\n",
    "y=np.array(y)\n",
    "\n",
    "\n",
    "import scipy.optimize\n",
    "def gaussian(x, a, cen, sigma, bg):\n",
    "    return np.abs(a*np.exp(-(x-cen)**2/2/sigma**2))+bg\n",
    "p0=[np.max(y), np.mean(x),100, np.min(y)]\n",
    "py, _ = scipy.optimize.curve_fit(gaussian, np.array(x), y, p0=p0)\n",
    "plt.scatter(np.array(x),y)\n",
    "xf=np.linspace(np.min(x),np.max(x),100)\n",
    "\n",
    "plt.plot(xf,gaussian(xf, *py))\n",
    "plt.xlim(-8000, -1000)\n",
    "plt.xlabel('y position / um')\n",
    "plt.ylabel('mean(fluorescence det img)')\n",
    "plt.xlim(-5500,-3600)\n",
    "# plt.xlim(-4900,-4300)\n",
    "plt.grid(1)\n",
    "plt.title(int(py[1]))"
   ]
  },
  {
   "cell_type": "code",
   "execution_count": 132,
   "id": "6a5b8d03-e12b-459b-af54-c38c31028dcc",
   "metadata": {},
   "outputs": [
    {
     "data": {
      "text/plain": [
       "array([   54.94871198, -4541.79977585,   189.48818084,    13.51715463])"
      ]
     },
     "execution_count": 132,
     "metadata": {},
     "output_type": "execute_result"
    }
   ],
   "source": [
    "py"
   ]
  },
  {
   "cell_type": "markdown",
   "id": "59688800-b2db-4df8-9c80-723014b6edc7",
   "metadata": {},
   "source": [
    "# Attenuator scan plot"
   ]
  },
  {
   "cell_type": "code",
   "execution_count": null,
   "id": "cc4de2b8-0039-4386-a60f-e6f5444247bf",
   "metadata": {},
   "outputs": [
    {
     "name": "stderr",
     "output_type": "stream",
     "text": [
      "1it [00:00,  6.88it/s]"
     ]
    },
    {
     "name": "stdout",
     "output_type": "stream",
     "text": [
      "1314988\n",
      "1314989\n",
      "1314990\n"
     ]
    },
    {
     "name": "stderr",
     "output_type": "stream",
     "text": [
      "8it [00:00, 16.60it/s]"
     ]
    },
    {
     "name": "stdout",
     "output_type": "stream",
     "text": [
      "1314991\n",
      "1314992\n",
      "1314993\n",
      "1314994\n",
      "1314995\n"
     ]
    },
    {
     "name": "stderr",
     "output_type": "stream",
     "text": [
      "\n"
     ]
    },
    {
     "data": {
      "text/plain": [
       "Text(0, 0.5, 'mean(fluorescence det img)')"
      ]
     },
     "execution_count": 71,
     "metadata": {},
     "output_type": "execute_result"
    },
    {
     "data": {
      "image/png": "[encoded data removed]",
      "text/plain": [
       "<Figure size 640x480 with 1 Axes>"
      ]
     },
     "metadata": {},
     "output_type": "display_data"
    }
   ],
   "source": [
    "# START=1314988\n",
    "# END=1314995\n",
    "\n",
    "START=1314919\n",
    "END=1314925\n",
    "\n",
    "x=[]\n",
    "y=[]\n",
    "\n",
    "path=Path(\"/work/kuschel/2023TRsHardXray/scratch/ulmer/data/run_data/\")\n",
    "for data_dict in tqdm(read_data_generator(path,minrun=START, maxrun=END)):\n",
    "    # i0=rundata[\"diode\"]\n",
    "    # current_fluorescence_normalized=np.nanmean(rundata[\"side_total\"]/i0)\n",
    "    # fluorescence_normalized.append(current_fluorescence_normalized)\n",
    "    # energy.append(rundata[\"spectrum_axis\"][np.argmax(rundata[\"spectrum_mean\"])])\n",
    "    # attenuation= 1\n",
    "\n",
    "    print(data_dict[\"runNR\"])\n",
    "    mask = np.ones_like(data_dict['side_mean'])\n",
    "    mask[:270,:] = np.nan\n",
    "    mask[920:,:] = np.nan\n",
    "    mask[:,1070:] = np.nan\n",
    "    mask[:,:580] = np.nan\n",
    "    y.append(np.nanmean(data_dict['side_mean']*mask))\n",
    "    x.append(np.median(data_dict['attenuator_eh_5_Si_mm']*1e3))\n",
    "x=np.array(x)\n",
    "\n",
    "#y=np.array(y)/96\n",
    "#y=y*(0.435**(np.array(x)/0.0001))np.min(y)\n",
    "plt.scatter(np.array(x),y)\n",
    "plt.yscale('log')\n",
    "plt.grid()\n",
    "plt.xlabel('attenuator / mm')\n",
    "plt.ylabel('mean(fluorescence det img)')"
   ]
  },
  {
   "cell_type": "code",
   "execution_count": null,
   "id": "2678341f-e47f-4a0d-8a06-e5f4efcbbd37",
   "metadata": {},
   "outputs": [],
   "source": []
  },
  {
   "cell_type": "markdown",
   "id": "90e719c2-066b-4458-a264-3161da000129",
   "metadata": {},
   "source": [
    "# Plot brightest Shots"
   ]
  },
  {
   "cell_type": "code",
   "execution_count": null,
   "id": "778fd622-9627-45bd-b8ee-9caa4d27a16f",
   "metadata": {},
   "outputs": [],
   "source": []
  },
  {
   "cell_type": "markdown",
   "id": "e0e27db5-cfc7-45e5-9fb5-3225bf4b3761",
   "metadata": {},
   "source": [
    "# Darks"
   ]
  },
  {
   "cell_type": "code",
   "execution_count": 245,
   "id": "412c1885-50cb-4043-87aa-5b0541b2f4f2",
   "metadata": {},
   "outputs": [
    {
     "name": "stderr",
     "output_type": "stream",
     "text": [
      "100%|█████████████████████████████████████████| 100/100 [00:09<00:00, 10.29it/s]\n"
     ]
    }
   ],
   "source": [
    "from pathlib import Path\n",
    "\n",
    "\n",
    "def create_darks(run, path):\n",
    "    path=Path(path)\n",
    "    #accumulators\n",
    "    forward_mean=accumulators.Mean()\n",
    "    side_mean=accumulators.Mean()\n",
    "    (path/\"forward\").mkdir(parents=True,exist_ok=True)\n",
    "    (path/\"side\").mkdir(parents=True,exist_ok=True)\n",
    "    for shot in tqdm(Run(exp_config.detector_keys,exp_config.database_keys, run=run, detector_dark_files=None)):\n",
    "        # do something with the data.\n",
    "\n",
    "\n",
    "        #image detectors\n",
    "        side_mean.accumulate(shot.side_ccd)\n",
    "        forward_mean.accumulate(shot.forward_ccd)\n",
    "    time = int(dbpy.read_starttime(3,run))\n",
    "    np.save(path/f\"side/{run}_{time}.npy\",side_mean.value)\n",
    "    np.save(path/f\"forward/{run}_{time}.npy\",forward_mean.value)\n",
    "\n",
    "for dark_run in [1315673,]:\n",
    "    create_darks(run=dark_run, path=\"../data/darks/\")\n",
    "\n"
   ]
  }
 ],
 "metadata": {
  "kernelspec": {
   "display_name": "Python 3 (ipykernel)",
   "language": "python",
   "name": "python3"
  },
  "language_info": {
   "codemirror_mode": {
    "name": "ipython",
    "version": 3
   },
   "file_extension": ".py",
   "mimetype": "text/x-python",
   "name": "python",
   "nbconvert_exporter": "python",
   "pygments_lexer": "ipython3",
   "version": "3.7.9"
  }
 },
 "nbformat": 4,
 "nbformat_minor": 5
}
