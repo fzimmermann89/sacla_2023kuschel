{
 "cells": [
  {
   "cell_type": "code",
   "execution_count": 11,
   "id": "93f8abf8-3efd-4f79-9993-f93e5ee10636",
   "metadata": {},
   "outputs": [
    {
     "name": "stdout",
     "output_type": "stream",
     "text": [
      "starting job for runs: 1314826 to 1314875\n",
      "4935218[].fep01\n",
      "starting job for runs: 1314876 to 1314925\n",
      "4935219[].fep01\n",
      "starting job for runs: 1314926 to 1314975\n",
      "4935221[].fep01\n",
      "starting job for runs: 1314976 to 1315025\n",
      "4935222[].fep01\n",
      "starting job for runs: 1315026 to 1315075\n",
      "4935223[].fep01\n",
      "starting job for runs: 1315076 to 1315125\n",
      "4935224[].fep01\n",
      "starting job for runs: 1315126 to 1315175\n",
      "4935225[].fep01\n",
      "starting job for runs: 1315176 to 1315225\n",
      "4935227[].fep01\n",
      "starting job for runs: 1315226 to 1315275\n",
      "4935238[].fep01\n",
      "starting job for runs: 1315276 to 1315325\n",
      "4935241[].fep01\n",
      "starting job for runs: 1315326 to 1315375\n",
      "4935242[].fep01\n",
      "starting job for runs: 1315376 to 1315425\n",
      "4935243[].fep01\n",
      "starting job for runs: 1315426 to 1315475\n",
      "4935244[].fep01\n",
      "starting job for runs: 1315476 to 1315525\n",
      "4935245[].fep01\n",
      "starting job for runs: 1315526 to 1315575\n",
      "4935246[].fep01\n",
      "starting job for runs: 1315576 to 1315625\n",
      "4935252[].fep01\n",
      "starting job for runs: 1315626 to 1315673\n",
      "4935253[].fep01\n"
     ]
    }
   ],
   "source": [
    "from data_helper import getNewestRun\n",
    "import time\n",
    "\n",
    "start_run = 1314826\n",
    "end_run = getNewestRun()\n",
    "current_run = start_run\n",
    "while current_run < end_run:\n",
    "    srun = int(current_run)\n",
    "    erun = int(min(current_run+49, end_run))\n",
    "    print(f'starting job for runs: {srun} to {erun}')\n",
    "    !qsub -o logs/ -e logs/ -J $srun-$erun job.pbs\n",
    "    current_run += 50\n",
    "    time.sleep(60)\n"
   ]
  },
  {
   "cell_type": "code",
   "execution_count": 8,
   "id": "aca9c075-7825-431c-b2d6-45469ff43ceb",
   "metadata": {},
   "outputs": [
    {
     "name": "stdout",
     "output_type": "stream",
     "text": [
      "Job id            Name             User              Time Use S Queue\n",
      "----------------  ---------------- ----------------  -------- - -----\n",
      "4933611.fep01     STDIN            nakasako          04:44:49 R long            \n",
      "4934538.fep01     STDIN            nojiri            22:13:11 R serial          \n",
      "4934738.fep01     STDIN            muthreich         00:00:01 R serial          \n",
      "4934880.fep01     STDIN            yanwen            03:04:29 R serial          \n",
      "4934891.fep01     STDIN            ulmer             00:00:26 R serial          \n",
      "4934897.fep01     STDIN            ulmer             01:16:38 R serial          \n",
      "4935193.fep01     MPR_HPC_00001-0* nakasako          00:38:21 R psmall          \n",
      "4935194.fep01     511_v11-1        mamoru.suzuki     00:00:00 R serial          \n",
      "4935195.fep01     512_v11-1        mamoru.suzuki     00:00:00 R serial          \n",
      "4935196.fep01     513_v11-1        mamoru.suzuki     00:00:00 R serial          \n",
      "4935197.fep01     514_v11-1        mamoru.suzuki     00:00:00 R serial          \n",
      "4935198.fep01     515_v11-1        mamoru.suzuki     00:00:00 R serial          \n",
      "4935199.fep01     516_v11-1        mamoru.suzuki     00:00:00 R serial          \n",
      "4935200.fep01     517_v11-1        mamoru.suzuki     00:00:00 R serial          \n",
      "4935201.fep01     518_v11-1        mamoru.suzuki     00:02:17 R serial          \n",
      "4935202.fep01     519_v11-1        mamoru.suzuki     00:00:00 R serial          \n",
      "4935203[].fep01   job.pbs          ulmer                    0 B serial          \n"
     ]
    }
   ],
   "source": [
    "!qstat"
   ]
  }
 ],
 "metadata": {
  "kernelspec": {
   "display_name": "Python 3 (ipykernel)",
   "language": "python",
   "name": "python3"
  },
  "language_info": {
   "codemirror_mode": {
    "name": "ipython",
    "version": 3
   },
   "file_extension": ".py",
   "mimetype": "text/x-python",
   "name": "python",
   "nbconvert_exporter": "python",
   "pygments_lexer": "ipython3",
   "version": "3.7.9"
  }
 },
 "nbformat": 4,
 "nbformat_minor": 5
}
