{
 "cells": [
  {
   "cell_type": "code",
   "execution_count": 1,
   "id": "1d64f0fe-7be8-4987-8101-fb63a9e095f4",
   "metadata": {},
   "outputs": [],
   "source": [
    "import exp_config\n",
    "from data_helper import *"
   ]
  },
  {
   "cell_type": "code",
   "execution_count": 2,
   "id": "1d0187fc-ea1b-4ede-a83f-510871127338",
   "metadata": {},
   "outputs": [
    {
     "name": "stdout",
     "output_type": "stream",
     "text": [
      "1923212.1\n"
     ]
    }
   ],
   "source": [
    "for shot in Run(exp_config.detector_keys,exp_config.database_keys, run=-4):\n",
    "    # do something with the data.\n",
    "    print(np.sum(shot.spectrometer))\n",
    "    break\n",
    "                                    \n",
    "        \n",
    "        \n",
    "    "
   ]
  },
  {
   "cell_type": "code",
   "execution_count": null,
   "id": "c4dc8824-92f5-4fb0-9a7b-1bbb1056d7e0",
   "metadata": {},
   "outputs": [],
   "source": []
  }
 ],
 "metadata": {
  "kernelspec": {
   "display_name": "Python 3 (ipykernel)",
   "language": "python",
   "name": "python3"
  },
  "language_info": {
   "codemirror_mode": {
    "name": "ipython",
    "version": 3
   },
   "file_extension": ".py",
   "mimetype": "text/x-python",
   "name": "python",
   "nbconvert_exporter": "python",
   "pygments_lexer": "ipython3",
   "version": "3.7.16"
  }
 },
 "nbformat": 4,
 "nbformat_minor": 5
}
