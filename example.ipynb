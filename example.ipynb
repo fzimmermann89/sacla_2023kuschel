{
 "cells": [
  {
   "cell_type": "code",
   "execution_count": null,
   "id": "1d64f0fe-7be8-4987-8101-fb63a9e095f4",
   "metadata": {},
   "outputs": [],
   "source": [
    "import exp_config\n",
    "from data_helper import *\n",
    "import accumulators\n",
    "from tqdm import tqdm"
   ]
  },
  {
   "cell_type": "code",
   "execution_count": null,
   "id": "1d0187fc-ea1b-4ede-a83f-510871127338",
   "metadata": {},
   "outputs": [],
   "source": [
    "mean_spectrum=accumulators.Mean()\n",
    "\n",
    "for shot in tqdm(Run(exp_config.detector_keys,exp_config.database_keys, run=-20)):\n",
    "    # do something with the data.\n",
    "    spectrum = np.mean(shot.spectrometer, axis=1)\n",
    "    mean_spectrum.accumulate(spectrum)\n",
    "                                    \n",
    "        \n",
    "        \n",
    "    "
   ]
  },
  {
   "cell_type": "code",
   "execution_count": null,
   "id": "c4dc8824-92f5-4fb0-9a7b-1bbb1056d7e0",
   "metadata": {},
   "outputs": [],
   "source": [
    "import matplotlib.pyplot as plt\n",
    "plt.plot(mean_spectrum.value)"
   ]
  }
 ],
 "metadata": {
  "kernelspec": {
   "display_name": "Python 3 (ipykernel)",
   "language": "python",
   "name": "python3"
  },
  "language_info": {
   "codemirror_mode": {
    "name": "ipython",
    "version": 3
   },
   "file_extension": ".py",
   "mimetype": "text/x-python",
   "name": "python",
   "nbconvert_exporter": "python",
   "pygments_lexer": "ipython3",
   "version": "3.7.16"
  }
 },
 "nbformat": 4,
 "nbformat_minor": 5
}
